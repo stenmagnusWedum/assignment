{
 "cells": [
  {
   "cell_type": "markdown",
   "id": "a5e8e7c6-939c-4455-8856-626ef44ef81e",
   "metadata": {},
   "source": [
    "Task B"
   ]
  },
  {
   "cell_type": "markdown",
   "id": "9b62dc69-173e-4009-9785-078cd0e41d01",
   "metadata": {},
   "source": [
    "Read csv file"
   ]
  },
  {
   "cell_type": "code",
   "execution_count": 72,
   "id": "7c377244-bf0d-4a08-a277-64399eaf8a28",
   "metadata": {},
   "outputs": [],
   "source": [
    "f = open('data.csv')\n",
    "\n",
    "c1 = []\n",
    "c2 = []\n",
    "c3 = []\n",
    "\n",
    "for line in f:\n",
    "\n",
    "    values = line.split(',')\n",
    "\n",
    "    if values[0]!='':\n",
    "        c1.append(float(values[0]))\n",
    "    \n",
    "    if values[1]!='':\n",
    "        c2.append(float(values[1]))\n",
    "    \n",
    "    c3.append(float(values[2][:-2]))\n",
    "\n",
    "import numpy as np\n",
    "from math import sqrt"
   ]
  },
  {
   "cell_type": "markdown",
   "id": "1187655b-04d2-455c-bc56-903d7db1b032",
   "metadata": {},
   "source": [
    "Standard deviation using loops"
   ]
  },
  {
   "cell_type": "code",
   "execution_count": 44,
   "id": "0da9d613-50e4-40d4-901e-931952e655c6",
   "metadata": {},
   "outputs": [],
   "source": [
    "def std_loops(lst):\n",
    "    \"\"\"\n",
    "    Compute standard deviation of x using loops.\n",
    "    Parameters\n",
    "    ----------\n",
    "    x: Sequence of numbers\n",
    "    Returns\n",
    "    -------\n",
    "    sd : float\n",
    "        Standard deviation of the list of numbers.\n",
    "    \"\"\"\n",
    "    \n",
    "    sum = 0\n",
    "    \n",
    "    length = 0\n",
    "\n",
    "    for num in lst:\n",
    "        sum+=num  \n",
    "        length+=1\n",
    "\n",
    "    mean = sum/length\n",
    "    \n",
    "    sum2 = 0\n",
    "    \n",
    "    for num in lst:\n",
    "        sum2+=num**2\n",
    "        \n",
    "    meanSquares = sum2/length\n",
    "\n",
    "    deviation2 = meanSquares-mean**2\n",
    "\n",
    "    deviation = sqrt(deviation2)\n",
    "    \n",
    "    return deviation"
   ]
  },
  {
   "cell_type": "markdown",
   "id": "de004ead-17a7-483d-8bff-5068f674d43f",
   "metadata": {},
   "source": [
    "Standard deviation using sum() and len()"
   ]
  },
  {
   "cell_type": "code",
   "execution_count": 97,
   "id": "ece80691-a917-4b89-8d4e-c4df414b8bb2",
   "metadata": {},
   "outputs": [],
   "source": [
    "def std_builtin(lst):\n",
    "    \"\"\"\n",
    "    Compute standard deviation of x using the built-in functions sum()\n",
    "    and len().\n",
    "    Parameters\n",
    "    ----------\n",
    "    x: Sequence of numbers\n",
    "    Returns\n",
    "    -------\n",
    "    sd : float\n",
    "        Standard deviation of the list of numbers.\n",
    "    \"\"\"\n",
    "    mean = sum(lst)/len(lst)\n",
    "    \n",
    "    sum2 = 0\n",
    "    \n",
    "    for num in lst:\n",
    "        sum2+=num**2\n",
    "    \n",
    "    meanSquares = sum2/len(lst)\n",
    "    \n",
    "    deviation2 = meanSquares-mean**2\n",
    "\n",
    "    deviation = sqrt(deviation2)\n",
    "    \n",
    "    return deviation"
   ]
  },
  {
   "cell_type": "code",
   "execution_count": 46,
   "id": "1da7301a-bbf5-4f35-a02f-dc7d8e8f5a2e",
   "metadata": {},
   "outputs": [
    {
     "name": "stdout",
     "output_type": "stream",
     "text": [
      "Standard deviation of column 1 using loops is: 0.282\n",
      "Standard deviation of column 2 using loops is: 0.285\n",
      "Standard deviation of column 3 using loops is: 0.286\n"
     ]
    }
   ],
   "source": [
    "print(f'Standard deviation of column 1 using loops is: {std_loops(c1):.3f}')\n",
    "print(f'Standard deviation of column 2 using loops is: {std_loops(c2):.3f}')\n",
    "print(f'Standard deviation of column 3 using loops is: {std_loops(c3):.3f}')"
   ]
  },
  {
   "cell_type": "code",
   "execution_count": 70,
   "id": "1a959175-f840-4187-b5ad-3c9eb8dba27c",
   "metadata": {},
   "outputs": [
    {
     "name": "stdout",
     "output_type": "stream",
     "text": [
      "Standard deviation of column 1 using sum() and len() is: 0.282\n",
      "Standard deviation of column 2 using sum() and len() is: 0.285\n",
      "Standard deviation of column 3 using sum() and len() is: 0.286\n"
     ]
    }
   ],
   "source": [
    "print(f'Standard deviation of column 1 using sum() and len() is: {std_builtin(c1):.3f}')\n",
    "print(f'Standard deviation of column 2 using sum() and len() is: {std_builtin(c2):.3f}')\n",
    "print(f'Standard deviation of column 3 using sum() and len() is: {std_builtin(c3):.3f}')"
   ]
  },
  {
   "cell_type": "markdown",
   "id": "24f709e8-0d5f-41e3-a962-835ae70968d7",
   "metadata": {},
   "source": [
    "Standard deviation using pre made function form NumPy"
   ]
  },
  {
   "cell_type": "code",
   "execution_count": 77,
   "id": "f71927f4-23bd-4a56-95b7-1971646a62a3",
   "metadata": {},
   "outputs": [
    {
     "name": "stdout",
     "output_type": "stream",
     "text": [
      "Standard deviation of column 1 using NumPY is: 0.282\n",
      "Standard deviation of column 2 using NumPY is: 0.285\n",
      "Standard deviation of column 3 using NumPY is: 0.286\n"
     ]
    }
   ],
   "source": [
    "print(f'Standard deviation of column 1 using NumPY is: {np.std(c1):.3f}')\n",
    "print(f'Standard deviation of column 2 using NumPY is: {np.std(c2):.3f}')\n",
    "print(f'Standard deviation of column 3 using NumPY is: {np.std(c3):.3f}')"
   ]
  },
  {
   "cell_type": "markdown",
   "id": "83d78c98-69f6-4b19-a347-c0092f26bad7",
   "metadata": {},
   "source": [
    "Comparing the runtime of the different approaches"
   ]
  },
  {
   "cell_type": "markdown",
   "id": "6ae5eaf0-fa50-41a8-9f33-049c6fab4d4c",
   "metadata": {},
   "source": [
    "Runtime column 1"
   ]
  },
  {
   "cell_type": "code",
   "execution_count": 81,
   "id": "dd623cee-e9ec-49d6-b1de-0fee06d92be7",
   "metadata": {},
   "outputs": [
    {
     "name": "stdout",
     "output_type": "stream",
     "text": [
      "16.4 μs ± 499 ns per loop (mean ± std. dev. of 7 runs, 100,000 loops each)\n",
      "12.5 μs ± 316 ns per loop (mean ± std. dev. of 7 runs, 100,000 loops each)\n",
      "49.3 μs ± 3.67 μs per loop (mean ± std. dev. of 7 runs, 10,000 loops each)\n"
     ]
    }
   ],
   "source": [
    "%timeit std_loops(c1)\n",
    "%timeit std_builtin(c1)\n",
    "%timeit np.std(c1)"
   ]
  },
  {
   "cell_type": "markdown",
   "id": "77de341c-7455-440e-ab0e-77e1882fcad9",
   "metadata": {},
   "source": [
    "Runtime column 2"
   ]
  },
  {
   "cell_type": "code",
   "execution_count": 90,
   "id": "7405acf3-2cc1-4eb1-a9b4-b437f2d4ab0a",
   "metadata": {},
   "outputs": [
    {
     "name": "stdout",
     "output_type": "stream",
     "text": [
      "267 μs ± 26.2 μs per loop (mean ± std. dev. of 7 runs, 1,000 loops each)\n",
      "197 μs ± 22.4 μs per loop (mean ± std. dev. of 7 runs, 10,000 loops each)\n",
      "265 μs ± 23.8 μs per loop (mean ± std. dev. of 7 runs, 1,000 loops each)\n"
     ]
    }
   ],
   "source": [
    "%timeit std_loops(c2)\n",
    "%timeit std_builtin(c2)\n",
    "%timeit np.std(c2)"
   ]
  },
  {
   "cell_type": "markdown",
   "id": "00867a08-8ca5-49fe-bc58-bc51323ae1ab",
   "metadata": {},
   "source": [
    "Runtime column 3"
   ]
  },
  {
   "cell_type": "code",
   "execution_count": 92,
   "id": "a4e6813b-8b53-45fa-9a0c-2409560c9339",
   "metadata": {},
   "outputs": [
    {
     "name": "stdout",
     "output_type": "stream",
     "text": [
      "1.99 ms ± 191 μs per loop (mean ± std. dev. of 7 runs, 100 loops each)\n",
      "1.25 ms ± 58.4 μs per loop (mean ± std. dev. of 7 runs, 1,000 loops each)\n",
      "796 μs ± 13.9 μs per loop (mean ± std. dev. of 7 runs, 1,000 loops each)\n"
     ]
    }
   ],
   "source": [
    "%timeit std_loops(c3)\n",
    "%timeit std_builtin(c3)\n",
    "%timeit np.std(c3)"
   ]
  },
  {
   "cell_type": "markdown",
   "id": "6008cd6e-93db-4c35-9bc2-44bbd95830e3",
   "metadata": {},
   "source": [
    "Conclusion:\r\n",
    "After comparing the results of the runtime in three instances both the boss and you seems to be partially correct. The trend is that the longer the sequence the faster NumPy is compared to the others. In the first sequence using sum() and len() is much faster than NumPy. In the second sequence the results are closer. However, in the third sequence NumPy is comfortably faster. Using loops to iterate though the list is always the slowest. To sum up, NumPy is better at handling big data sets, but uses more time than built in functions to initialize\r\n"
   ]
  },
  {
   "cell_type": "code",
   "execution_count": null,
   "id": "30e39fc2-8160-4e06-8044-7a873c68225b",
   "metadata": {},
   "outputs": [],
   "source": []
  }
 ],
 "metadata": {
  "kernelspec": {
   "display_name": "Python 3 (ipykernel)",
   "language": "python",
   "name": "python3"
  },
  "language_info": {
   "codemirror_mode": {
    "name": "ipython",
    "version": 3
   },
   "file_extension": ".py",
   "mimetype": "text/x-python",
   "name": "python",
   "nbconvert_exporter": "python",
   "pygments_lexer": "ipython3",
   "version": "3.12.4"
  }
 },
 "nbformat": 4,
 "nbformat_minor": 5
}
